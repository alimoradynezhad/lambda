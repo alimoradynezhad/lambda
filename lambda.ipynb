{
 "cells": [
  {
   "cell_type": "code",
   "execution_count": 1,
   "id": "d6a5e66e",
   "metadata": {},
   "outputs": [
    {
     "data": {
      "text/plain": [
       "7"
      ]
     },
     "execution_count": 1,
     "metadata": {},
     "output_type": "execute_result"
    }
   ],
   "source": [
    "sum = lambda x, y : x + y\n",
    "sum(3, 4)"
   ]
  },
  {
   "cell_type": "code",
   "execution_count": 2,
   "id": "e6ef5f77",
   "metadata": {},
   "outputs": [
    {
     "data": {
      "text/plain": [
       "[[1, 2, [7, 2], 's'],\n",
       " [9, 8, [7, 4], 'a'],\n",
       " [9, 8, [7, 5], 'a'],\n",
       " [4, 5, [7, 9], 'b'],\n",
       " [7, 5, [7, 5], 'e']]"
      ]
     },
     "execution_count": 2,
     "metadata": {},
     "output_type": "execute_result"
    }
   ],
   "source": [
    "list_ = [[1, 2, [7, 2],'s'], [9,8,[7,4],'a'],[9,8,[7,5],'a'],[4,5,[7,9],'b'],[7,5,[7,5],'e']]\n",
    "list_"
   ]
  },
  {
   "cell_type": "code",
   "execution_count": 14,
   "id": "8656aa48",
   "metadata": {},
   "outputs": [
    {
     "data": {
      "text/plain": [
       "[[9, 8, [7, 4], 'a'],\n",
       " [9, 8, [7, 5], 'a'],\n",
       " [4, 5, [7, 9], 'b'],\n",
       " [7, 5, [7, 5], 'e'],\n",
       " [1, 2, [7, 2], 's']]"
      ]
     },
     "execution_count": 14,
     "metadata": {},
     "output_type": "execute_result"
    }
   ],
   "source": [
    "list_.sort(key=lambda l:l[-1])#سورت در حالت معمولی مرتب میکنه بر اساس اولین ایندکس ولی با لامبدا میتون سورت را با ایندکس مشخصی انجام داد\n",
    "list_"
   ]
  },
  {
   "cell_type": "code",
   "execution_count": 6,
   "id": "4da940be",
   "metadata": {},
   "outputs": [
    {
     "data": {
      "text/plain": [
       "[[1, 2, [7, 2], 's'],\n",
       " [9, 8, [7, 4], 'a'],\n",
       " [9, 8, [7, 5], 'a'],\n",
       " [7, 5, [7, 5], 'e'],\n",
       " [4, 5, [7, 9], 'b']]"
      ]
     },
     "execution_count": 6,
     "metadata": {},
     "output_type": "execute_result"
    }
   ],
   "source": [
    "list_.sort(key=lambda l:l[-2])\n",
    "list_"
   ]
  },
  {
   "cell_type": "code",
   "execution_count": 9,
   "id": "25ce65fd",
   "metadata": {},
   "outputs": [
    {
     "data": {
      "text/plain": [
       "[[1, 2, [7, 2], 's'],\n",
       " [9, 8, [7, 4], 'a'],\n",
       " [9, 8, [7, 5], 'a'],\n",
       " [7, 5, [7, 5], 'e'],\n",
       " [4, 5, [7, 9], 'b']]"
      ]
     },
     "execution_count": 9,
     "metadata": {},
     "output_type": "execute_result"
    }
   ],
   "source": [
    "list_.sort(key = lambda l:l[-2][-1])\n",
    "list_"
   ]
  },
  {
   "cell_type": "code",
   "execution_count": 10,
   "id": "8b77644a",
   "metadata": {},
   "outputs": [
    {
     "data": {
      "text/plain": [
       "[[1, 2, [7, 2], 's'],\n",
       " [9, 8, [7, 4], 'a'],\n",
       " [9, 8, [7, 5], 'a'],\n",
       " [7, 5, [7, 5], 'e'],\n",
       " [4, 5, [7, 9], 'b']]"
      ]
     },
     "execution_count": 10,
     "metadata": {},
     "output_type": "execute_result"
    }
   ],
   "source": [
    "#سورت بر اساس  سومین ایندکس سپس داخل سومین ایندکس ایندکس دومی\n",
    "list_.sort(key = lambda l:l[2][1])\n",
    "list_"
   ]
  },
  {
   "cell_type": "code",
   "execution_count": 11,
   "id": "6caca1ab",
   "metadata": {},
   "outputs": [
    {
     "name": "stdout",
     "output_type": "stream",
     "text": [
      "[4, 5, [7, 9], 'b']\n",
      "[1, 2, [7, 2], 's']\n"
     ]
    }
   ],
   "source": [
    "print(max(list_,key = lambda l:l[2]))\n",
    "print(min(list_,key = lambda l:l[2]))"
   ]
  },
  {
   "cell_type": "code",
   "execution_count": 12,
   "id": "a031f16e",
   "metadata": {},
   "outputs": [
    {
     "data": {
      "text/plain": [
       "[[1, 2, [7, 2], 's'],\n",
       " [9, 8, [7, 4], 'a'],\n",
       " [9, 8, [7, 5], 'a'],\n",
       " [7, 5, [7, 5], 'e'],\n",
       " [4, 5, [7, 9], 'b']]"
      ]
     },
     "execution_count": 12,
     "metadata": {},
     "output_type": "execute_result"
    }
   ],
   "source": [
    "list_"
   ]
  },
  {
   "cell_type": "code",
   "execution_count": 13,
   "id": "c4c50350",
   "metadata": {},
   "outputs": [
    {
     "data": {
      "text/plain": [
       "[[1, 2, [7, 2], 's'],\n",
       " [4, 5, [7, 9], 'b'],\n",
       " [7, 5, [7, 5], 'e'],\n",
       " [9, 8, [7, 4], 'a'],\n",
       " [9, 8, [7, 5], 'a']]"
      ]
     },
     "execution_count": 13,
     "metadata": {},
     "output_type": "execute_result"
    }
   ],
   "source": [
    "# سورت بر اساس اولین ایندکس\n",
    "list_.sort(key = lambda l:l[0])\n",
    "list_"
   ]
  },
  {
   "cell_type": "code",
   "execution_count": 16,
   "id": "5c8d1b8e",
   "metadata": {},
   "outputs": [
    {
     "data": {
      "text/plain": [
       "12960"
      ]
     },
     "execution_count": 16,
     "metadata": {},
     "output_type": "execute_result"
    }
   ],
   "source": [
    "#reduce\n",
    "import functools\n",
    "list_ = [1,2,3,3,4,5,6,6]\n",
    "functools.reduce(lambda m, n : m * n, list_)"
   ]
  },
  {
   "cell_type": "code",
   "execution_count": 17,
   "id": "758de59c",
   "metadata": {},
   "outputs": [
    {
     "data": {
      "text/plain": [
       "12960"
      ]
     },
     "execution_count": 17,
     "metadata": {},
     "output_type": "execute_result"
    }
   ],
   "source": [
    "1*2*3*3*4*5*6*6"
   ]
  },
  {
   "cell_type": "code",
   "execution_count": 18,
   "id": "598796bf",
   "metadata": {},
   "outputs": [
    {
     "data": {
      "text/plain": [
       "30"
      ]
     },
     "execution_count": 18,
     "metadata": {},
     "output_type": "execute_result"
    }
   ],
   "source": [
    "import functools\n",
    "list_ = [1,2,3,3,4,5,6,6]\n",
    "functools.reduce(lambda m, n : m + n, list_)"
   ]
  },
  {
   "cell_type": "code",
   "execution_count": 19,
   "id": "694dcc7b",
   "metadata": {},
   "outputs": [
    {
     "data": {
      "text/plain": [
       "30"
      ]
     },
     "execution_count": 19,
     "metadata": {},
     "output_type": "execute_result"
    }
   ],
   "source": [
    "1+2+3+3+4+5+6+6"
   ]
  },
  {
   "cell_type": "code",
   "execution_count": 22,
   "id": "7a10b8ec",
   "metadata": {},
   "outputs": [
    {
     "data": {
      "text/plain": [
       "[2, 3, 5, 7, 15]"
      ]
     },
     "execution_count": 22,
     "metadata": {},
     "output_type": "execute_result"
    }
   ],
   "source": [
    "#filter\n",
    "a = [1,2,3,5,7,9,15,20]\n",
    "b = [2,3,5,6,7,8,12,15]\n",
    "list(filter(lambda x: x in a, b))# مشترک ها رو لیست میکنه"
   ]
  },
  {
   "cell_type": "code",
   "execution_count": 23,
   "id": "aadb94c7",
   "metadata": {},
   "outputs": [
    {
     "data": {
      "text/plain": [
       "[2, 3, 5, 7, 15]"
      ]
     },
     "execution_count": 23,
     "metadata": {},
     "output_type": "execute_result"
    }
   ],
   "source": [
    "[x for x in b if x in a]#فیلتر با حلقه یا لیست کامپریشن"
   ]
  },
  {
   "cell_type": "code",
   "execution_count": 24,
   "id": "6f6e3a89",
   "metadata": {},
   "outputs": [
    {
     "name": "stdout",
     "output_type": "stream",
     "text": [
      "[1, 4, 9, 16]\n"
     ]
    }
   ],
   "source": [
    "# map\n",
    "a =[1,2,3,4]\n",
    "b =[17,12,11,10]\n",
    "c =[-1,-4,5,9]\n",
    "\n",
    "print(list(map(lambda x : x**2 , a)))"
   ]
  },
  {
   "cell_type": "code",
   "execution_count": 25,
   "id": "24e1b8f3",
   "metadata": {},
   "outputs": [
    {
     "name": "stdout",
     "output_type": "stream",
     "text": [
      "[18, 14, 14, 14]\n"
     ]
    }
   ],
   "source": [
    "print(list(map(lambda x, y : x + y , a, b)))"
   ]
  },
  {
   "cell_type": "code",
   "execution_count": 26,
   "id": "cf6b1d5d",
   "metadata": {},
   "outputs": [
    {
     "name": "stdout",
     "output_type": "stream",
     "text": [
      "[17, 10, 19, 23]\n"
     ]
    }
   ],
   "source": [
    "print(list(map(lambda x, y, z : x+y+z , a, b, c)))"
   ]
  },
  {
   "cell_type": "code",
   "execution_count": 29,
   "id": "62d64cc4",
   "metadata": {},
   "outputs": [
    {
     "data": {
      "text/plain": [
       "[17, 10, 19, 23]"
      ]
     },
     "execution_count": 29,
     "metadata": {},
     "output_type": "execute_result"
    }
   ],
   "source": [
    "[x+y+z for x,y,z in zip(a,b,c)]"
   ]
  },
  {
   "cell_type": "code",
   "execution_count": null,
   "id": "cf6545b1",
   "metadata": {},
   "outputs": [],
   "source": []
  }
 ],
 "metadata": {
  "kernelspec": {
   "display_name": "Python 3 (ipykernel)",
   "language": "python",
   "name": "python3"
  },
  "language_info": {
   "codemirror_mode": {
    "name": "ipython",
    "version": 3
   },
   "file_extension": ".py",
   "mimetype": "text/x-python",
   "name": "python",
   "nbconvert_exporter": "python",
   "pygments_lexer": "ipython3",
   "version": "3.9.7"
  }
 },
 "nbformat": 4,
 "nbformat_minor": 5
}
